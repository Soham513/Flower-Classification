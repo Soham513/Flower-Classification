{
  "cells": [
    {
      "cell_type": "code",
      "execution_count": 1,
      "metadata": {
        "colab": {
          "base_uri": "https://localhost:8080/"
        },
        "id": "PKZhYnlw9pQd",
        "outputId": "61e7451e-7ac1-494f-d73c-1b8269dacc1e"
      },
      "outputs": [
        {
          "name": "stdout",
          "output_type": "stream",
          "text": [
            "Collecting Augmentor\n",
            "  Downloading Augmentor-0.2.12-py2.py3-none-any.whl (38 kB)\n",
            "Requirement already satisfied: Pillow>=5.2.0 in c:\\users\\soham\\appdata\\local\\programs\\python\\python311\\lib\\site-packages (from Augmentor) (9.3.0)\n",
            "Requirement already satisfied: tqdm>=4.9.0 in c:\\users\\soham\\appdata\\local\\programs\\python\\python311\\lib\\site-packages (from Augmentor) (4.66.1)\n",
            "Requirement already satisfied: numpy>=1.11.0 in c:\\users\\soham\\appdata\\local\\programs\\python\\python311\\lib\\site-packages (from Augmentor) (1.23.5)\n",
            "Requirement already satisfied: colorama in c:\\users\\soham\\appdata\\roaming\\python\\python311\\site-packages (from tqdm>=4.9.0->Augmentor) (0.4.6)\n",
            "Installing collected packages: Augmentor\n",
            "Successfully installed Augmentor-0.2.12\n",
            "Note: you may need to restart the kernel to use updated packages.\n"
          ]
        },
        {
          "name": "stderr",
          "output_type": "stream",
          "text": [
            "\n",
            "[notice] A new release of pip is available: 23.3.2 -> 24.0\n",
            "[notice] To update, run: python.exe -m pip install --upgrade pip\n"
          ]
        }
      ],
      "source": [
        "pip install Augmentor"
      ]
    },
    {
      "cell_type": "code",
      "execution_count": 3,
      "metadata": {
        "colab": {
          "base_uri": "https://localhost:8080/"
        },
        "id": "uZAtkaUW9zYg",
        "outputId": "bfe9afe7-c0f5-412d-9d40-7627e2beb2f7"
      },
      "outputs": [
        {
          "name": "stdout",
          "output_type": "stream",
          "text": [
            "Initialised with 156 image(s) found.\n",
            "Output directory set to C:\\Users\\Soham\\Desktop\\My_Flowers_Dataset\\All_Flowers\\Hibiscus\\output."
          ]
        }
      ],
      "source": [
        "import Augmentor\n",
        "p = Augmentor.Pipeline(\"C:\\\\Users\\\\Soham\\\\Desktop\\\\My_Flowers_Dataset\\\\All_Flowers\\\\Hibiscus\")\n"
      ]
    },
    {
      "cell_type": "code",
      "execution_count": 4,
      "metadata": {
        "colab": {
          "base_uri": "https://localhost:8080/"
        },
        "id": "_arlOWDN-x8t",
        "outputId": "1d083486-f2a8-4d78-f609-7329d815fec8"
      },
      "outputs": [
        {
          "name": "stderr",
          "output_type": "stream",
          "text": [
            "Executing Pipeline:   0%|          | 0/150 [00:00<?, ? Samples/s]"
          ]
        },
        {
          "name": "stderr",
          "output_type": "stream",
          "text": [
            "Processing <PIL.Image.Image image mode=RGB size=1200x1600 at 0x1F4C3FAC350>: 100%|██████████| 150/150 [00:15<00:00,  9.86 Samples/s]\n"
          ]
        }
      ],
      "source": [
        "p.rotate(probability=0.7, max_left_rotation=10, max_right_rotation=10)\n",
        "p.zoom(probability=0.3, min_factor=0.8, max_factor=1.5)\n",
        "p.flip_top_bottom(probability=0.5)\n",
        "p.random_brightness(probability=0.3,min_factor=0.3,max_factor=1.2)\n",
        "p.random_distortion(probability=1, grid_width=4, grid_height=4, magnitude=8)\n",
        "p.sample(150)"
      ]
    },
    {
      "cell_type": "code",
      "execution_count": 5,
      "metadata": {
        "colab": {
          "base_uri": "https://localhost:8080/"
        },
        "id": "oQHS7ij4U_z_",
        "outputId": "6fbb4d41-9d22-4faf-add0-cfbc2514dd42"
      },
      "outputs": [
        {
          "name": "stdout",
          "output_type": "stream",
          "text": [
            "Initialised with 924 image(s) found.\n",
            "Output directory set to C:\\Users\\Soham\\Desktop\\My_Flowers_Dataset\\All_Flowers\\Daisy\\output."
          ]
        }
      ],
      "source": [
        "import Augmentor\n",
        "d = Augmentor.Pipeline(\"C:\\\\Users\\\\Soham\\\\Desktop\\\\My_Flowers_Dataset\\\\All_Flowers\\\\Daisy\")"
      ]
    },
    {
      "cell_type": "code",
      "execution_count": 6,
      "metadata": {
        "colab": {
          "base_uri": "https://localhost:8080/"
        },
        "id": "cv_1y0pnVYwX",
        "outputId": "c0f07813-25c9-4cc2-ae34-25d640d5a701"
      },
      "outputs": [
        {
          "name": "stderr",
          "output_type": "stream",
          "text": [
            "Executing Pipeline:   0%|          | 0/500 [00:00<?, ? Samples/s]"
          ]
        },
        {
          "name": "stderr",
          "output_type": "stream",
          "text": [
            "Processing <PIL.Image.Image image mode=RGB size=512x512 at 0x1F4C4007810>: 100%|██████████| 500/500 [00:22<00:00, 22.59 Samples/s]  \n"
          ]
        }
      ],
      "source": [
        "d.rotate(probability=0.7, max_left_rotation=10, max_right_rotation=10)\n",
        "d.zoom(probability=0.3, min_factor=0.8, max_factor=1.5)\n",
        "d.flip_top_bottom(probability=0.5)\n",
        "d.random_brightness(probability=0.3,min_factor=0.3,max_factor=1.2)\n",
        "d.random_distortion(probability=1, grid_width=4, grid_height=4, magnitude=8)\n",
        "d.sample(500)"
      ]
    },
    {
      "cell_type": "code",
      "execution_count": 7,
      "metadata": {
        "colab": {
          "base_uri": "https://localhost:8080/"
        },
        "id": "44bTEH1BX__I",
        "outputId": "7c2ab86f-daf6-438d-9b17-18cb489e1e6e"
      },
      "outputs": [
        {
          "name": "stdout",
          "output_type": "stream",
          "text": [
            "Initialised with 154 image(s) found.\n",
            "Output directory set to C:\\Users\\Soham\\Desktop\\My_Flowers_Dataset\\All_Flowers\\Dhalia Pinnata\\output."
          ]
        }
      ],
      "source": [
        "Dhalia_Pinnata = Augmentor.Pipeline(\"C:\\\\Users\\\\Soham\\\\Desktop\\\\My_Flowers_Dataset\\\\All_Flowers\\\\Dhalia Pinnata\")"
      ]
    },
    {
      "cell_type": "code",
      "execution_count": 8,
      "metadata": {
        "colab": {
          "base_uri": "https://localhost:8080/"
        },
        "id": "nEOzUVzYbHIZ",
        "outputId": "3062c4e9-a72e-4e64-fdab-0afe83e865f0"
      },
      "outputs": [
        {
          "name": "stderr",
          "output_type": "stream",
          "text": [
            "Processing <PIL.Image.Image image mode=RGB size=1200x1600 at 0x1F4BBB9DD50>: 100%|██████████| 1000/1000 [02:12<00:00,  7.55 Samples/s]\n"
          ]
        }
      ],
      "source": [
        "Dhalia_Pinnata.rotate(probability=0.7, max_left_rotation=10, max_right_rotation=10)\n",
        "Dhalia_Pinnata.zoom(probability=0.3, min_factor=0.8, max_factor=1.5)\n",
        "Dhalia_Pinnata.flip_top_bottom(probability=0.5)\n",
        "Dhalia_Pinnata.random_brightness(probability=0.3,min_factor=0.3,max_factor=1.2)\n",
        "Dhalia_Pinnata.random_distortion(probability=1, grid_width=4, grid_height=4, magnitude=8)\n",
        "Dhalia_Pinnata.sample(1000)"
      ]
    },
    {
      "cell_type": "code",
      "execution_count": 9,
      "metadata": {
        "colab": {
          "base_uri": "https://localhost:8080/"
        },
        "id": "33XZMM9JkPJF",
        "outputId": "0c4cd65f-3929-4b19-8d61-692cd75ab9cb"
      },
      "outputs": [
        {
          "name": "stdout",
          "output_type": "stream",
          "text": [
            "Initialised with 156 image(s) found.\n",
            "Output directory set to C:\\Users\\Soham\\Desktop\\My_Flowers_Dataset\\All_Flowers\\Surfinia\\output."
          ]
        }
      ],
      "source": [
        "Surfinia = Augmentor.Pipeline(\"C:\\\\Users\\\\Soham\\\\Desktop\\\\My_Flowers_Dataset\\\\All_Flowers\\\\Surfinia\")"
      ]
    },
    {
      "cell_type": "code",
      "execution_count": 11,
      "metadata": {},
      "outputs": [
        {
          "name": "stdout",
          "output_type": "stream",
          "text": [
            "Note: you may need to restart the kernel to use updated packages.Requirement already satisfied: Pillow in c:\\users\\soham\\appdata\\local\\programs\\python\\python311\\lib\\site-packages (9.3.0)\n",
            "\n"
          ]
        },
        {
          "name": "stderr",
          "output_type": "stream",
          "text": [
            "\n",
            "[notice] A new release of pip is available: 23.3.2 -> 24.0\n",
            "[notice] To update, run: python.exe -m pip install --upgrade pip\n"
          ]
        }
      ],
      "source": [
        "pip install Pillow\n"
      ]
    },
    {
      "cell_type": "code",
      "execution_count": 14,
      "metadata": {
        "colab": {
          "base_uri": "https://localhost:8080/"
        },
        "id": "7aL4An5cksej",
        "outputId": "19953006-d316-4c5d-ae58-068347b368f0"
      },
      "outputs": [
        {
          "name": "stderr",
          "output_type": "stream",
          "text": [
            "Executing Pipeline:   0%|          | 0/1000 [00:00<?, ? Samples/s]"
          ]
        },
        {
          "name": "stderr",
          "output_type": "stream",
          "text": [
            "Processing <PIL.Image.Image image mode=RGB size=1600x1200 at 0x1F4BBB85690>: 100%|██████████| 1000/1000 [08:08<00:00,  2.05 Samples/s]\n"
          ]
        }
      ],
      "source": [
        "Surfinia.rotate(probability=0.7, max_left_rotation=10, max_right_rotation=10)\n",
        "Surfinia.zoom(probability=0.3, min_factor=0.8, max_factor=1.5)\n",
        "Surfinia.flip_top_bottom(probability=0.5)\n",
        "Surfinia.random_brightness(probability=0.3,min_factor=0.3,max_factor=1.2)\n",
        "Surfinia.random_distortion(probability=1, grid_width=4, grid_height=4, magnitude=8)\n",
        "Surfinia.rotate_random_90(probability=0.5)\n",
        "Surfinia.flip_left_right(probability=0.5)\n",
        "Surfinia.random_contrast(probability=0.3, min_factor=0.5, max_factor=1.5)\n",
        "\n",
        "\n",
        "Surfinia.sample(1000)"
      ]
    },
    {
      "cell_type": "code",
      "execution_count": 16,
      "metadata": {
        "colab": {
          "base_uri": "https://localhost:8080/"
        },
        "id": "Sv4EKVbZlJKI",
        "outputId": "61efd4f3-d39b-417c-ea31-c3d025159abc"
      },
      "outputs": [
        {
          "name": "stdout",
          "output_type": "stream",
          "text": [
            "Initialised with 165 image(s) found.\n",
            "Output directory set to C:\\Users\\Soham\\Desktop\\My_Flowers_Dataset\\All_Flowers\\Rose\\output."
          ]
        }
      ],
      "source": [
        "Rose = Augmentor.Pipeline(\"C:\\\\Users\\\\Soham\\\\Desktop\\\\My_Flowers_Dataset\\\\All_Flowers\\\\Rose\")"
      ]
    },
    {
      "cell_type": "code",
      "execution_count": 17,
      "metadata": {
        "colab": {
          "base_uri": "https://localhost:8080/"
        },
        "id": "70JXpCQ3lSgG",
        "outputId": "df9ca5a7-9f4f-448d-b2f9-ebf684a26948"
      },
      "outputs": [
        {
          "name": "stderr",
          "output_type": "stream",
          "text": [
            "Processing <PIL.Image.Image image mode=RGB size=1600x1200 at 0x1F4BBBD1290>: 100%|██████████| 1000/1000 [02:13<00:00,  7.48 Samples/s]\n"
          ]
        }
      ],
      "source": [
        "Rose.rotate(probability=0.7, max_left_rotation=10, max_right_rotation=10)\n",
        "Rose.zoom(probability=0.3, min_factor=0.8, max_factor=1.5)\n",
        "Rose.flip_top_bottom(probability=0.5)\n",
        "Rose.random_brightness(probability=0.3,min_factor=0.3,max_factor=1.2)\n",
        "Rose.random_distortion(probability=1, grid_width=4, grid_height=4, magnitude=8)\n",
        "Rose.rotate_random_90(probability=0.5)\n",
        "Rose.flip_left_right(probability=0.5)\n",
        "Rose.random_contrast(probability=0.3, min_factor=0.5, max_factor=1.5)\n",
        "Rose.sample(1000)"
      ]
    },
    {
      "cell_type": "code",
      "execution_count": 18,
      "metadata": {},
      "outputs": [
        {
          "name": "stdout",
          "output_type": "stream",
          "text": [
            "Initialised with 1924 image(s) found.\n",
            "Output directory set to C:\\Users\\Soham\\Desktop\\My_Flowers_Dataset\\All_Flowers\\dandelion\\output."
          ]
        },
        {
          "name": "stderr",
          "output_type": "stream",
          "text": [
            "Processing <PIL.Image.Image image mode=RGB size=512x512 at 0x1F4AA47DB90>: 100%|██████████| 1000/1000 [00:23<00:00, 42.67 Samples/s]\n"
          ]
        }
      ],
      "source": [
        "dandelion = Augmentor.Pipeline(\"C:\\\\Users\\\\Soham\\\\Desktop\\\\My_Flowers_Dataset\\\\All_Flowers\\\\dandelion\")\n",
        "\n",
        "dandelion.rotate(probability=0.7, max_left_rotation=10, max_right_rotation=10)\n",
        "dandelion.zoom(probability=0.3, min_factor=0.8, max_factor=1.5)\n",
        "dandelion.flip_top_bottom(probability=0.5)\n",
        "dandelion.random_brightness(probability=0.3,min_factor=0.3,max_factor=1.2)\n",
        "dandelion.random_distortion(probability=1, grid_width=4, grid_height=4, magnitude=8)\n",
        "dandelion.rotate_random_90(probability=0.5)\n",
        "dandelion.flip_left_right(probability=0.5)\n",
        "dandelion.random_contrast(probability=0.3, min_factor=0.5, max_factor=1.5)\n",
        "dandelion.sample(1000)"
      ]
    },
    {
      "cell_type": "code",
      "execution_count": 20,
      "metadata": {},
      "outputs": [
        {
          "name": "stdout",
          "output_type": "stream",
          "text": [
            "Initialised with 673 image(s) found.\n",
            "Output directory set to C:\\Users\\Soham\\Desktop\\My_Flowers_Dataset\\All_Flowers\\Sunflowers\\output."
          ]
        },
        {
          "name": "stderr",
          "output_type": "stream",
          "text": [
            "Processing <PIL.Image.Image image mode=RGB size=500x333 at 0x1F4BA15E890>: 100%|██████████| 1000/1000 [00:17<00:00, 56.76 Samples/s]\n"
          ]
        }
      ],
      "source": [
        "Sunflowers = Augmentor.Pipeline(\"C:\\\\Users\\\\Soham\\\\Desktop\\\\My_Flowers_Dataset\\\\All_Flowers\\\\Sunflowers\")\n",
        "\n",
        "Sunflowers.rotate(probability=0.7, max_left_rotation=10, max_right_rotation=10)\n",
        "Sunflowers.zoom(probability=0.3, min_factor=0.8, max_factor=1.5)\n",
        "Sunflowers.flip_top_bottom(probability=0.5)\n",
        "Sunflowers.random_brightness(probability=0.3,min_factor=0.3,max_factor=1.2)\n",
        "Sunflowers.random_distortion(probability=1, grid_width=4, grid_height=4, magnitude=8)\n",
        "Sunflowers.rotate_random_90(probability=0.5)\n",
        "Sunflowers.flip_left_right(probability=0.5)\n",
        "Sunflowers.random_contrast(probability=0.3, min_factor=0.5, max_factor=1.5)\n",
        "Sunflowers.sample(1000)"
      ]
    },
    {
      "cell_type": "code",
      "execution_count": 21,
      "metadata": {},
      "outputs": [
        {
          "name": "stdout",
          "output_type": "stream",
          "text": [
            "Initialised with 773 image(s) found.\n",
            "Output directory set to C:\\Users\\Soham\\Desktop\\My_Flowers_Dataset\\All_Flowers\\tulips\\output."
          ]
        },
        {
          "name": "stderr",
          "output_type": "stream",
          "text": [
            "Processing <PIL.Image.Image image mode=RGB size=500x333 at 0x1F4BA14E890>: 100%|██████████| 1000/1000 [00:15<00:00, 62.92 Samples/s]\n"
          ]
        }
      ],
      "source": [
        "tulips = Augmentor.Pipeline(\"C:\\\\Users\\\\Soham\\\\Desktop\\\\My_Flowers_Dataset\\\\All_Flowers\\\\tulips\")\n",
        "\n",
        "tulips.rotate(probability=0.7, max_left_rotation=10, max_right_rotation=10)\n",
        "tulips.zoom(probability=0.3, min_factor=0.8, max_factor=1.5)\n",
        "tulips.flip_top_bottom(probability=0.5)\n",
        "tulips.random_brightness(probability=0.3,min_factor=0.3,max_factor=1.2)\n",
        "tulips.random_distortion(probability=1, grid_width=4, grid_height=4, magnitude=8)\n",
        "tulips.rotate_random_90(probability=0.5)\n",
        "tulips.flip_left_right(probability=0.5)\n",
        "tulips.random_contrast(probability=0.3, min_factor=0.5, max_factor=1.5)\n",
        "tulips.sample(1000)"
      ]
    }
  ],
  "metadata": {
    "colab": {
      "provenance": []
    },
    "kernelspec": {
      "display_name": "Python 3",
      "name": "python3"
    },
    "language_info": {
      "codemirror_mode": {
        "name": "ipython",
        "version": 3
      },
      "file_extension": ".py",
      "mimetype": "text/x-python",
      "name": "python",
      "nbconvert_exporter": "python",
      "pygments_lexer": "ipython3",
      "version": "3.11.0"
    }
  },
  "nbformat": 4,
  "nbformat_minor": 0
}
